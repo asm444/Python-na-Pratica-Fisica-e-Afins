{
 "cells": [
  {
   "cell_type": "markdown",
   "metadata": {
    "id": "78wOdbYd2lSV"
   },
   "source": [
    "# Funções"
   ]
  },
  {
   "cell_type": "code",
   "execution_count": 1,
   "metadata": {
    "executionInfo": {
     "elapsed": 5,
     "status": "ok",
     "timestamp": 1653526595335,
     "user": {
      "displayName": "Luiz Felipe Demetrio",
      "userId": "01599052334499619081"
     },
     "user_tz": 180
    },
    "id": "khwFYSGX1sMb"
   },
   "outputs": [],
   "source": [
    "def f():\n",
    "  print(\"Oi\")"
   ]
  },
  {
   "cell_type": "code",
   "execution_count": 3,
   "metadata": {
    "colab": {
     "base_uri": "https://localhost:8080/"
    },
    "executionInfo": {
     "elapsed": 6,
     "status": "ok",
     "timestamp": 1653526614106,
     "user": {
      "displayName": "Luiz Felipe Demetrio",
      "userId": "01599052334499619081"
     },
     "user_tz": 180
    },
    "id": "-YYR-OGI3VqF",
    "outputId": "8533d585-d1e7-4e12-bd6f-1326d77a6222"
   },
   "outputs": [
    {
     "name": "stdout",
     "output_type": "stream",
     "text": [
      "Oi\n"
     ]
    }
   ],
   "source": [
    "f()"
   ]
  },
  {
   "cell_type": "code",
   "execution_count": 6,
   "metadata": {
    "colab": {
     "base_uri": "https://localhost:8080/"
    },
    "executionInfo": {
     "elapsed": 5,
     "status": "ok",
     "timestamp": 1653526785796,
     "user": {
      "displayName": "Luiz Felipe Demetrio",
      "userId": "01599052334499619081"
     },
     "user_tz": 180
    },
    "id": "RhLpW9Ss3cyd",
    "outputId": "ea15e370-e8c5-421e-87d0-70e805b2ff30"
   },
   "outputs": [
    {
     "data": {
      "text/plain": [
       "9"
      ]
     },
     "execution_count": 6,
     "metadata": {},
     "output_type": "execute_result"
    }
   ],
   "source": [
    "def f(x):\n",
    "  y = x**2\n",
    "  return y\n",
    "\n",
    "f(3)"
   ]
  },
  {
   "cell_type": "code",
   "execution_count": 8,
   "metadata": {
    "colab": {
     "base_uri": "https://localhost:8080/"
    },
    "executionInfo": {
     "elapsed": 280,
     "status": "ok",
     "timestamp": 1653526888771,
     "user": {
      "displayName": "Luiz Felipe Demetrio",
      "userId": "01599052334499619081"
     },
     "user_tz": 180
    },
    "id": "dhdZh7m-4Gtl",
    "outputId": "60d89961-0edc-4b2d-f185-a76dc48fd063"
   },
   "outputs": [
    {
     "data": {
      "text/plain": [
       "16"
      ]
     },
     "execution_count": 8,
     "metadata": {},
     "output_type": "execute_result"
    }
   ],
   "source": [
    "def f(x = 4):\n",
    "  return x**2\n",
    "\n",
    "f()"
   ]
  },
  {
   "cell_type": "code",
   "execution_count": 16,
   "metadata": {
    "colab": {
     "base_uri": "https://localhost:8080/"
    },
    "executionInfo": {
     "elapsed": 302,
     "status": "ok",
     "timestamp": 1653528257143,
     "user": {
      "displayName": "Luiz Felipe Demetrio",
      "userId": "01599052334499619081"
     },
     "user_tz": 180
    },
    "id": "iLZYh9M04AHz",
    "outputId": "8fac99b7-5e5c-40ea-9e42-922c62adc8c2"
   },
   "outputs": [
    {
     "data": {
      "text/plain": [
       "24"
      ]
     },
     "execution_count": 16,
     "metadata": {},
     "output_type": "execute_result"
    }
   ],
   "source": [
    "def f(e,d, x = 4):\n",
    "  return x*e*d\n",
    "\n",
    "f(2,3)"
   ]
  },
  {
   "cell_type": "code",
   "execution_count": 14,
   "metadata": {
    "colab": {
     "base_uri": "https://localhost:8080/"
    },
    "executionInfo": {
     "elapsed": 317,
     "status": "ok",
     "timestamp": 1653527935151,
     "user": {
      "displayName": "Luiz Felipe Demetrio",
      "userId": "01599052334499619081"
     },
     "user_tz": 180
    },
    "id": "NEWMrznd6HTU",
    "outputId": "89d32b5f-01a3-4c36-fc38-7598d4c2c9cc"
   },
   "outputs": [
    {
     "name": "stdout",
     "output_type": "stream",
     "text": [
      "Positivo\n",
      "Negativo\n",
      "Nulo\n"
     ]
    }
   ],
   "source": [
    "def sinal(num):\n",
    "  if num > 0:\n",
    "    print(\"Positivo\")\n",
    "  elif num < 0:\n",
    "    print(\"Negativo\")\n",
    "  else:\n",
    "    print(\"Nulo\")\n",
    "\n",
    "sinal(3)\n",
    "sinal(-9)\n",
    "sinal(0)\n"
   ]
  },
  {
   "cell_type": "code",
   "execution_count": 17,
   "metadata": {
    "colab": {
     "base_uri": "https://localhost:8080/"
    },
    "executionInfo": {
     "elapsed": 5,
     "status": "ok",
     "timestamp": 1653528263458,
     "user": {
      "displayName": "Luiz Felipe Demetrio",
      "userId": "01599052334499619081"
     },
     "user_tz": 180
    },
    "id": "ZjiYj_7n8fS6",
    "outputId": "d7f6c845-9735-442d-c940-c08af2af2ff2"
   },
   "outputs": [
    {
     "name": "stdout",
     "output_type": "stream",
     "text": [
      "Positivo\n",
      "Positivo\n",
      "Nulo\n",
      "Positivo\n",
      "Negativo\n",
      "Negativo\n",
      "Negativo\n"
     ]
    }
   ],
   "source": [
    "lista = [1,2,0,3,-4,-9,-1]\n",
    "\n",
    "for numero in lista:\n",
    "  sinal(numero)"
   ]
  },
  {
   "cell_type": "code",
   "execution_count": 23,
   "metadata": {
    "colab": {
     "base_uri": "https://localhost:8080/"
    },
    "executionInfo": {
     "elapsed": 12,
     "status": "ok",
     "timestamp": 1653529080899,
     "user": {
      "displayName": "Luiz Felipe Demetrio",
      "userId": "01599052334499619081"
     },
     "user_tz": 180
    },
    "id": "my4U8sdy9vda",
    "outputId": "30dc6b43-5689-49b1-97c7-74ed702d7a02"
   },
   "outputs": [
    {
     "data": {
      "text/plain": [
       "45"
      ]
     },
     "execution_count": 23,
     "metadata": {},
     "output_type": "execute_result"
    }
   ],
   "source": [
    "def sum(lista): # Função que possui como entrada uma lista e retorna a soma de seus elementos\n",
    "  soma = 0      # a soma começa em zero, pois não temos nenhum número \n",
    "  for elemento in lista:\n",
    "    soma = soma + elemento        # <---- += # Recursividade ----> funciona também com /= *= -= \n",
    "  return soma \n",
    "\n",
    "sum([1,2,3,4,5,6,7,8,9])"
   ]
  },
  {
   "cell_type": "markdown",
   "metadata": {
    "id": "UIYjh99qA7C5"
   },
   "source": [
    "# Multiplicação de Matrizes\n",
    "\n",
    "$$A_{m\\times n } B_{n\\times p} = C_{m\\times p}$$"
   ]
  },
  {
   "cell_type": "code",
   "execution_count": 1,
   "metadata": {
    "executionInfo": {
     "elapsed": 6,
     "status": "ok",
     "timestamp": 1653531502338,
     "user": {
      "displayName": "Luiz Felipe Demetrio",
      "userId": "01599052334499619081"
     },
     "user_tz": 180
    },
    "id": "-2IRyHZ6A3BA"
   },
   "outputs": [],
   "source": [
    "#Finalboss\n",
    "\n",
    "def mult_matrizes(matriz_A, matriz_B):\n",
    "  if len(matriz_A[0]) != len(matriz_B):\n",
    "    print(\"Não é possível multiplicar as matrizes\")\n",
    "    print(\"O número de colunas da primeira matriz é diferente da segunda matriz\")\n",
    "  else: \n",
    "    matriz_resultante = []\n",
    "    for m in range(len(matriz_A)):        #multiplicando linha \n",
    "      for n in range(len(matriz_B[0])):     # por coluna\n",
    "        elemento = 0\n",
    "        elementos = []\n",
    "        matriz_resultante.append(elementos)\n",
    "        for p in range(len(matriz_B)):\n",
    "          elemento = matriz_A[m][p]*matriz_B[p][n]\n",
    "          elementos.append(elemento)\n",
    "        \n",
    "        elemento_resultante = sum(elementos)\n",
    "        matriz_resultante[m].append(elemento_resultante)\n",
    "\n",
    "    return matriz_resultante"
   ]
  },
  {
   "cell_type": "code",
   "execution_count": null,
   "metadata": {},
   "outputs": [],
   "source": []
  }
 ],
 "metadata": {
  "colab": {
   "authorship_tag": "ABX9TyOeptNvAdXHv4OiErG9AyfF",
   "name": "EnsaioFunções.ipynb",
   "provenance": []
  },
  "kernelspec": {
   "display_name": "Python 3",
   "language": "python",
   "name": "python3"
  },
  "language_info": {
   "codemirror_mode": {
    "name": "ipython",
    "version": 3
   },
   "file_extension": ".py",
   "mimetype": "text/x-python",
   "name": "python",
   "nbconvert_exporter": "python",
   "pygments_lexer": "ipython3",
   "version": "3.8.10"
  }
 },
 "nbformat": 4,
 "nbformat_minor": 1
}
