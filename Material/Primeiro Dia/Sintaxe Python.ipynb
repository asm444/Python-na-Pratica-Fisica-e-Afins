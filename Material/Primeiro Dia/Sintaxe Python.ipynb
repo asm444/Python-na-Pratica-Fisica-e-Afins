{
 "cells": [
  {
   "cell_type": "markdown",
   "id": "4a2a130f",
   "metadata": {},
   "source": [
    "# Operações Básicas com Python"
   ]
  },
  {
   "cell_type": "markdown",
   "id": "e8701970",
   "metadata": {},
   "source": [
    "## Lista de operações básicas\n",
    "\n",
    "- Soma ------------   `+`\n",
    "\n",
    "- Substração ------   `-`\n",
    "\n",
    "- Multiplicação ---   `*`\n",
    "\n",
    "- Divisão ---------   `/`\n",
    "\n",
    "- Potenciação -----   `**`"
   ]
  },
  {
   "cell_type": "code",
   "execution_count": null,
   "id": "7efd3f30",
   "metadata": {},
   "outputs": [],
   "source": []
  },
  {
   "cell_type": "code",
   "execution_count": null,
   "id": "8bb0a89e",
   "metadata": {},
   "outputs": [],
   "source": []
  },
  {
   "cell_type": "code",
   "execution_count": null,
   "id": "19569608",
   "metadata": {},
   "outputs": [],
   "source": []
  },
  {
   "cell_type": "code",
   "execution_count": null,
   "id": "12f9528a",
   "metadata": {},
   "outputs": [],
   "source": []
  },
  {
   "cell_type": "code",
   "execution_count": null,
   "id": "000bbf6f",
   "metadata": {},
   "outputs": [],
   "source": []
  },
  {
   "cell_type": "markdown",
   "id": "a188d3db",
   "metadata": {},
   "source": [
    "-----"
   ]
  },
  {
   "cell_type": "markdown",
   "id": "6cbfd2f1",
   "metadata": {},
   "source": [
    "### Função print\n",
    "\n",
    "A função `print()` precisa de um ou mais argumentos e a função irá imprimir na tela o resultado de alguma conta, valores de variáveis, entre outras coisas."
   ]
  },
  {
   "cell_type": "markdown",
   "id": "6319f175",
   "metadata": {},
   "source": [
    "### Função int\n",
    "A função `int()` retorna o número inteiro sem arrendondar.\n",
    "\n",
    "### Função round\n",
    "A função `round()` retorna o número arradondado e precisa de dois argumentos que são o número a ser arrendondado e a quantidade de casas."
   ]
  },
  {
   "cell_type": "code",
   "execution_count": null,
   "id": "34b319d9",
   "metadata": {},
   "outputs": [],
   "source": []
  },
  {
   "cell_type": "code",
   "execution_count": null,
   "id": "45b58ba1",
   "metadata": {},
   "outputs": [],
   "source": []
  },
  {
   "cell_type": "code",
   "execution_count": null,
   "id": "7d14972f",
   "metadata": {},
   "outputs": [],
   "source": []
  },
  {
   "cell_type": "code",
   "execution_count": null,
   "id": "dd899349",
   "metadata": {},
   "outputs": [],
   "source": []
  },
  {
   "cell_type": "code",
   "execution_count": null,
   "id": "95163a33",
   "metadata": {},
   "outputs": [],
   "source": []
  },
  {
   "cell_type": "markdown",
   "id": "773b0442",
   "metadata": {},
   "source": [
    "----\n",
    "### Comparações\n",
    "\n",
    "- Maior que `>`\n",
    "- Menor que `<`\n",
    "- Maior ou equivalente `>=`\n",
    "- Menor ou equivalente `<=`\n",
    "- Equivalente          `==`"
   ]
  },
  {
   "cell_type": "code",
   "execution_count": null,
   "id": "1d930f24",
   "metadata": {},
   "outputs": [],
   "source": []
  },
  {
   "cell_type": "code",
   "execution_count": null,
   "id": "d7237ae0",
   "metadata": {},
   "outputs": [],
   "source": []
  },
  {
   "cell_type": "code",
   "execution_count": null,
   "id": "6d994ecc",
   "metadata": {},
   "outputs": [],
   "source": []
  },
  {
   "cell_type": "code",
   "execution_count": null,
   "id": "a6cda985",
   "metadata": {},
   "outputs": [],
   "source": []
  },
  {
   "cell_type": "code",
   "execution_count": null,
   "id": "3c40fe98",
   "metadata": {},
   "outputs": [],
   "source": []
  },
  {
   "cell_type": "markdown",
   "id": "fb7adfe9",
   "metadata": {},
   "source": []
  }
 ],
 "metadata": {
  "kernelspec": {
   "display_name": "Python 3 (ipykernel)",
   "language": "python",
   "name": "python3"
  },
  "language_info": {
   "codemirror_mode": {
    "name": "ipython",
    "version": 3
   },
   "file_extension": ".py",
   "mimetype": "text/x-python",
   "name": "python",
   "nbconvert_exporter": "python",
   "pygments_lexer": "ipython3",
   "version": "3.10.2"
  }
 },
 "nbformat": 4,
 "nbformat_minor": 5
}
