{
 "cells": [
  {
   "cell_type": "markdown",
   "metadata": {
    "id": "7d2782d3"
   },
   "source": [
    "# Estrutura Condicional"
   ]
  },
  {
   "cell_type": "markdown",
   "metadata": {
    "id": "7e5ab3b9"
   },
   "source": [
    "`if`, `elif`, `else` (**se**, **senão se**, **senão**)"
   ]
  },
  {
   "cell_type": "code",
   "execution_count": null,
   "metadata": {
    "id": "b03b31a5",
    "outputId": "4cf5dc2e-512f-471e-b31d-d201c16ba322"
   },
   "outputs": [
    {
     "name": "stdout",
     "output_type": "stream",
     "text": [
      "Digite um número: -8\n",
      "Negativo\n"
     ]
    }
   ],
   "source": [
    "#Sinal de um número:\n",
    "\n",
    "a =int( input(\"Digite um número: \"))\n",
    "\n",
    "if a>0:\n",
    "    print(\"Positivo.\")\n",
    "elif a==0:\n",
    "    print(\"Nulo.\")\n",
    "else:\n",
    "    print(\"Negativo\")"
   ]
  },
  {
   "cell_type": "markdown",
   "metadata": {
    "id": "dba7c3cd"
   },
   "source": [
    "### Vamos construir uma estrutura condicional?"
   ]
  },
  {
   "cell_type": "markdown",
   "metadata": {
    "id": "b0e94860"
   },
   "source": [
    "### Baskara \n",
    "\n",
    "Um polinômio de segundo grau é dado por\n",
    "\n",
    "$$\\displaystyle P(x) = ax^2 + bx + c $$\n",
    "\n",
    "A raiz de um polinômio é dado quando\n",
    "\n",
    "\n",
    "$$\\displaystyle ax^2 + bx + c = 0$$\n",
    "\n",
    "ao usar o método de completar quadrados podemos chegar na seguinte solução \n",
    "\n",
    "$$\\displaystyle\\mathbf{x} = \\frac{- b \\pm \\sqrt{\\Delta}}{2 \\cdot a} $$ com $ \\Delta = b^2 - 4 \\cdot a \\cdot c $\n",
    "\n",
    "quando o $\\displaystyle\\Delta > 0$, o polinômio possui duas raizes reais e quando o $\\displaystyle\\Delta < 0 $ , o polinômio possui duas raizes complexos. Por fim, se $\\displaystyle\\Delta = 0 $, o polinômio possui apenas uma raiz real."
   ]
  },
  {
   "cell_type": "code",
   "execution_count": null,
   "metadata": {
    "id": "97f14842",
    "outputId": "51e244a2-482b-43f0-e1e6-8b71c3cbeb22"
   },
   "outputs": [
    {
     "name": "stdout",
     "output_type": "stream",
     "text": [
      "O polinômio possui duas raizes reais.\n",
      "As raizes do polinômio são 1.618033988749895 e -0.6180339887498949\n"
     ]
    }
   ],
   "source": [
    "#Definindo os coeficientes da equação e verificando o delta, obtemos\n",
    "a,b,c = 1,-1,-1\n",
    "\n",
    "delta = b**2-4*a*c\n",
    "\n",
    "if delta > 0:\n",
    "    print(\"O polinômio possui duas raizes reais.\")\n",
    "elif delta < 0:\n",
    "    print(\"O polinômio possui duas raizes complexos\")\n",
    "else:\n",
    "    print(\"O polinômio possui apenas uma raiz real.\")\n",
    "\n",
    "#Primeira raiz:\n",
    "x1 = (- b + (delta)**0.5)/(2*a)\n",
    "\n",
    "#Segunda raiz:\n",
    "x2 = (- b - (delta)**0.5)/(2*a)\n",
    "\n",
    "if x1==x2:\n",
    "    print(\"A raiz do polinômio é \", x1)\n",
    "else:\n",
    "    print(\"As raizes do polinômio são {} e {}\".format(x1,x2))"
   ]
  },
  {
   "cell_type": "code",
   "execution_count": null,
   "metadata": {
    "id": "ed38bcac",
    "outputId": "f0288818-0317-4a46-c5ce-d2a4abd151b5"
   },
   "outputs": [
    {
     "name": "stdout",
     "output_type": "stream",
     "text": [
      "1.618033988749895\n"
     ]
    }
   ],
   "source": [
    "phi = x1\n",
    "print(x1)"
   ]
  },
  {
   "cell_type": "markdown",
   "metadata": {
    "id": "f08d4357"
   },
   "source": [
    "$$\\mathbf{\\phi} = 1.618033988749895 $$\n",
    "\n",
    "Considerado um símbolo de perfeição na natureza e nas construções, chegando a receber o nome de proporção divina."
   ]
  },
  {
   "cell_type": "markdown",
   "metadata": {
    "id": "ca9951de"
   },
   "source": [
    "![5aef45c04a46032238f490b0997d183e.jpg](attachment:5aef45c04a46032238f490b0997d183e.jpg)"
   ]
  },
  {
   "cell_type": "code",
   "execution_count": null,
   "metadata": {
    "id": "cd68a6f0",
    "outputId": "3b92d84d-037a-4b27-9457-795c1ef4c59d"
   },
   "outputs": [
    {
     "name": "stdout",
     "output_type": "stream",
     "text": [
      "Digite o primeiro número: 5\n",
      "Digite o segundo número: 5\n",
      "25\n"
     ]
    }
   ],
   "source": [
    "'''Atividade:Montar uma calculadora que recebe dois números, \n",
    "se o primeiro número é maior que o segundo número, a calculadora irá calcular uma subtração entre o primeiro e o segundo. \n",
    "Caso contrário,  a calculadora irá somar os números. Se os números forem iguais, irão multiplicar.'''\n",
    "\n",
    "num1 = int(input(\"Digite o primeiro número: \"))\n",
    "num2 = int(input(\"Digite o segundo número: \"))\n",
    "\n",
    "if num1>num2:\n",
    "    print(num1-num2)\n",
    "elif num1<num2:\n",
    "    print(num1+num2)\n",
    "else:\n",
    "    print(num1*num2)"
   ]
  },
  {
   "cell_type": "code",
   "execution_count": null,
   "metadata": {
    "id": "8e5947fc"
   },
   "outputs": [],
   "source": [
    "#P/fazer Criar uma organizadora que recebe três números e organiza na ordem crescente.\n",
    "\n",
    "#P/Fazer   Desafio: Criar uma calculadora que encontra as raizes de um polinômio de terceiro grau."
   ]
  }
 ],
 "metadata": {
  "colab": {
   "name": "Estrutura Condicional.ipynb",
   "provenance": []
  },
  "kernelspec": {
   "display_name": "Python 3",
   "language": "python",
   "name": "python3"
  },
  "language_info": {
   "codemirror_mode": {
    "name": "ipython",
    "version": 3
   },
   "file_extension": ".py",
   "mimetype": "text/x-python",
   "name": "python",
   "nbconvert_exporter": "python",
   "pygments_lexer": "ipython3",
   "version": "3.8.10"
  }
 },
 "nbformat": 4,
 "nbformat_minor": 5
}
