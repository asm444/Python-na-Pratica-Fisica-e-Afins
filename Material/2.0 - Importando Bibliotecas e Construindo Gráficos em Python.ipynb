{
 "cells": [
  {
   "cell_type": "markdown",
   "metadata": {
    "id": "ee9a62fa"
   },
   "source": [
    "## Segundo dia"
   ]
  },
  {
   "cell_type": "code",
   "execution_count": null,
   "metadata": {
    "id": "24f46b99"
   },
   "outputs": [],
   "source": [
    "# Atividade, criar uma função que recebe dois valores e calcula pontos igualmente espaçados entre esses valores.\n",
    "\n",
    "def linspace (inicio, final, num_pontos): # inicio: limite inferior do intervalo; final: limite superior do intervalo\n",
    "    \n",
    "    intervalo = []\n",
    "    \n",
    "    num_pontos -=1 \n",
    "    \n",
    "#Pois já contamos um ponto inicial, para podermos contabilizar, distribuir entre o primeiro e o último precisamos\n",
    "#retirar um ponto\n",
    "    \n",
    "    delta = (final - inicio)/num_pontos\n",
    "    \n",
    "    arredondar = str(delta)\n",
    "    \n",
    "    arredondar = len(arredondar)\n",
    "    \n",
    "    \n",
    "    for num in range(0,num_pontos+1):\n",
    "    \n",
    "        intervalo.append(round(inicio+num*delta,arredondar))\n",
    "        \n",
    "    return intervalo"
   ]
  },
  {
   "cell_type": "code",
   "execution_count": null,
   "metadata": {
    "id": "4d852185",
    "outputId": "44583704-ed34-4469-d214-8e9b2eed84a7"
   },
   "outputs": [
    {
     "data": {
      "text/plain": [
       "[0.0, 25.0, 50.0, 75.0, 100.0]"
      ]
     },
     "execution_count": 3,
     "metadata": {},
     "output_type": "execute_result"
    }
   ],
   "source": [
    "linspace(0,100,5)"
   ]
  },
  {
   "cell_type": "code",
   "execution_count": null,
   "metadata": {
    "id": "85746d5f",
    "outputId": "c5950e8a-9a82-4b1d-f418-21adab351f0f"
   },
   "outputs": [
    {
     "name": "stdout",
     "output_type": "stream",
     "text": [
      "[  2.   26.5  51.   75.5 100. ]\n"
     ]
    }
   ],
   "source": [
    "from numpy import linspace\n",
    "\n",
    "print(linspace(2,100,5))"
   ]
  },
  {
   "cell_type": "markdown",
   "metadata": {
    "id": "6a8576ec"
   },
   "source": [
    "## Importando bibliotecas\n",
    "\n",
    "Bibliotecas são ferramentas prontas contendo funções, estruturas, objetos e valores. Essas estruturas são consultadas ao serem importadas no seu código para usar alguma função, valor ou um objeto sem a necessidade de contruir uma lógica ou um trabalho do zero. Assim, não há necessidade de definir ou criar recursos na maioria das vezes. Como vimos anteriormente, calculamos o $\\pi$ com certa precisão, mas podemos simplesmente consultar em uma das bibliotecas do python sem precisar defini-la por exemplo."
   ]
  },
  {
   "cell_type": "markdown",
   "metadata": {
    "id": "f09dcddc"
   },
   "source": [
    "`import biblioteca` para permitir que seu arquivo consulte os recursos da biblioteca\n",
    "\n"
   ]
  },
  {
   "cell_type": "markdown",
   "metadata": {
    "id": "24ab30b3"
   },
   "source": [
    "`import biblioteca` para permitir que seu arquivo consulte os recursos da biblioteca"
   ]
  },
  {
   "cell_type": "code",
   "execution_count": null,
   "metadata": {
    "id": "ed80b8f8"
   },
   "outputs": [],
   "source": [
    "from math import pi"
   ]
  },
  {
   "cell_type": "markdown",
   "metadata": {
    "id": "40cea154"
   },
   "source": [
    "`biblioteca.metodo` a biblioteca possui uma estrutura de orientação à objeto, sempre que for consultar um método (podendo ser uma variavel, função ou outra estrutura) se referência o recurso usado da biblioteca como `biblioteca.metodo` (consultar).(esse resurso)."
   ]
  },
  {
   "cell_type": "code",
   "execution_count": null,
   "metadata": {
    "id": "358d37bd",
    "outputId": "8c2b9d1a-4842-4715-fcc3-3a2081cd8fe1"
   },
   "outputs": [
    {
     "ename": "NameError",
     "evalue": "name 'math' is not defined",
     "output_type": "error",
     "traceback": [
      "\u001b[1;31m---------------------------------------------------------------------------\u001b[0m",
      "\u001b[1;31mNameError\u001b[0m                                 Traceback (most recent call last)",
      "Input \u001b[1;32mIn [6]\u001b[0m, in \u001b[0;36m<cell line: 1>\u001b[1;34m()\u001b[0m\n\u001b[1;32m----> 1\u001b[0m \u001b[43mmath\u001b[49m\u001b[38;5;241m.\u001b[39mpi\n",
      "\u001b[1;31mNameError\u001b[0m: name 'math' is not defined"
     ]
    }
   ],
   "source": [
    "math.pi # Importando o método Pi da biblioteca math (este método devolve o valor preciso de PI)"
   ]
  },
  {
   "cell_type": "markdown",
   "metadata": {
    "id": "ac173cdd"
   },
   "source": [
    "Alguns bibliotecas possuem nomes extensos, para simplificar a escrita de um código sempre é possivel dar um apelido para a biblioteca, de maneira que, ao invés de escrever o nome completo da biblioteca, se escreva o apelido referenciando a biblioteca, exemplo:\n",
    "\n",
    "`import biblioteca as blt` o interpretador do python lê como \"Importando a biblioteca de nome \"biblioteca\" mas vou procurar as referências dessa biblioteca por blt\". Mas se alguma vez você referenciar essa biblioteca pelo seu próprio nome, o python não irá reconhecer, por exemplo:"
   ]
  },
  {
   "cell_type": "code",
   "execution_count": null,
   "metadata": {
    "id": "403a886d"
   },
   "outputs": [],
   "source": [
    "import os as apelido\n",
    "\n",
    "apelido.system('start explorer.exe')\n",
    "\n",
    "os.system('start notepad.exe') #  <---- Mostrando que apenas o apelido é procurado pelo interpretador."
   ]
  },
  {
   "cell_type": "code",
   "execution_count": null,
   "metadata": {
    "id": "df76ae55"
   },
   "outputs": [],
   "source": [
    "math.pi"
   ]
  },
  {
   "cell_type": "markdown",
   "metadata": {
    "id": "d892c6a2"
   },
   "source": [
    "As vezes importar uma biblioteca inteira é custoso para a memória, no sentido de criar um algoritmo ou um programa que seja otimizado e rápido, por conta disso, no python há a possibilidade de importar um método da biblioteca sem a necessidade de importa-la completamente com `from biblioteca import metodo`. O interpretador do python lê \"Dessa biblioteca irei somente consultar esse recurso específico.\" (Pense como um dicionário, o leitor não precisa saber o significado de todas as palavras, é possível mas demanda muito tempo, uma alternativa mais rápida é consultar uma seção específica com apenas a palavra de interesse.)."
   ]
  },
  {
   "cell_type": "code",
   "execution_count": null,
   "metadata": {
    "id": "088c1c3c"
   },
   "outputs": [],
   "source": [
    "from math import factorial\n",
    "\n",
    "factorial (4)"
   ]
  },
  {
   "cell_type": "code",
   "execution_count": null,
   "metadata": {
    "id": "d8584b9e"
   },
   "outputs": [],
   "source": [
    "math.factorial(4)  # <---- Não funciona pois math não foi importado mas factorial sim!"
   ]
  },
  {
   "cell_type": "markdown",
   "metadata": {
    "id": "c0cdcbe7"
   },
   "source": [
    "Há uma forma de importar todos os objetos da biblioteca com `from biblioteca import *` e esses objetos poderão ser chamados sem a necessidade de especificar de qual biblioteca foi imoprtada, mas tome cuidado com os nomes de variáveis e funções, pois elas são sobescritas."
   ]
  },
  {
   "cell_type": "code",
   "execution_count": null,
   "metadata": {
    "id": "39c8762e"
   },
   "outputs": [],
   "source": [
    "import math"
   ]
  },
  {
   "cell_type": "code",
   "execution_count": null,
   "metadata": {
    "id": "49181e74"
   },
   "outputs": [],
   "source": [
    "math.e"
   ]
  },
  {
   "cell_type": "code",
   "execution_count": null,
   "metadata": {
    "id": "7efc8313"
   },
   "outputs": [],
   "source": [
    "(1+1/10000000000000)**10000000000000"
   ]
  },
  {
   "cell_type": "code",
   "execution_count": null,
   "metadata": {
    "id": "74fdb9b8"
   },
   "outputs": [],
   "source": [
    "#Atividade \n",
    "\n",
    "from IPython.display import clear_output as clear\n",
    "euler =0\n",
    "\n",
    "for i in range(0,100000000):\n",
    "    euler += 1/factorial(i)\n",
    "    clear()\n",
    "    print(euler)"
   ]
  },
  {
   "cell_type": "markdown",
   "metadata": {
    "id": "2848fb21"
   },
   "source": [
    "## [Bibliotecas padrão](https://docs.python.org/pt-br/3/library/) :\n",
    "\n",
    "### Selecionei as mais importantes que eu já usei em alguns projetos.\n",
    "\n",
    "* string — Operações comuns de strings\n",
    "\n",
    "* re — Operações com expressões regulares\n",
    "\n",
    "* math — Funções matemáticas\n",
    "\n",
    "* random — Gera números pseudoaleatórios\n",
    "\n",
    "* statistics — Funções estatísticas\n",
    "\n",
    "* csv — Leitura e escrita de arquivos CSV\n",
    "\n",
    "* os — Diversas interfaces de sistema operacional\n",
    "\n",
    "* time — Acesso ao horário e conversões\n",
    "\n",
    "* ctypes — Uma biblioteca de funções externas para Python\n",
    "\n",
    "* mmap — Suporte a arquivos mapeados na memória\n",
    "\n",
    "* urllib — Módulos de manipulação de URL\n",
    "\n",
    "* trace — Rastreia ou acompanha a execução de instruções Python\n",
    "\n",
    "* sys — Parâmetros e funções específicas do sistema\n",
    "\n",
    "* trace — Rastreia ou acompanha a execução de instruções Python\n"
   ]
  },
  {
   "cell_type": "markdown",
   "metadata": {
    "id": "ccd5256a"
   },
   "source": [
    "##  [Math](https://docs.python.org/pt-br/3/library/math.html) :\n",
    "\n"
   ]
  },
  {
   "cell_type": "code",
   "execution_count": null,
   "metadata": {
    "id": "fca5a157"
   },
   "outputs": [],
   "source": [
    "#Importando o math\n",
    "\n",
    "import math\n",
    "\n",
    "#Pi\n",
    "print(math.pi)\n",
    "\n",
    "#Euler\n",
    "print(math.e)\n",
    "\n",
    "'''#Tau ==> 2pi\n",
    "print(math.tau)\n",
    "print(2* math.pi == math.tau)'''\n",
    "\n",
    "'''#Radiano em agulo\n",
    "theta = 30\n",
    "theta_rad = math.radians(30)'''\n",
    "\n",
    "'''#Seno\n",
    "print(math.sin(theta_rad))'''\n",
    "\n",
    "#Cosseno\n",
    "print(math.cos(theta_rad))\n",
    "\n",
    "'''#Infinito\n",
    "print(math.inf/math.inf)\n",
    "\n",
    "print(1/math.inf)'''\n",
    "\n",
    "'''#Combinatória\n",
    "print(math.comb(4,4))\n",
    "\n",
    "#Permutação\n",
    "print(math.perm(4,4))'''\n",
    "\n",
    "#Exponencial\n",
    "print(math.exp(2))\n",
    "\n",
    "#Logarítimo\n",
    "print(math.log(10,10))"
   ]
  },
  {
   "cell_type": "markdown",
   "metadata": {
    "id": "534aac03"
   },
   "source": [
    "##  [Numpy](https://numpy.org/doc/stable/user/quickstart.html) :"
   ]
  },
  {
   "cell_type": "code",
   "execution_count": null,
   "metadata": {
    "id": "f6171105"
   },
   "outputs": [],
   "source": [
    "#Importando numpy\n",
    "\n",
    "import numpy as np \n",
    "# Uma convenção da comunidade, quando vc for ler um código com a numpy, a refêrencia  a ele será com np\n",
    "\n",
    "print(np.array([2,3,4,5,6,4])) #Manipular vetores\n",
    "\n",
    "print(np.exp(3))\n",
    "\n",
    "print(np.sin(30)) # <---- Possui as ferramentas básicas de matemática,estatística e algebra."
   ]
  },
  {
   "cell_type": "markdown",
   "metadata": {
    "id": "e69e9ea7"
   },
   "source": [
    "## Vamos usar gráficos em Python e aposentar o Origin ?"
   ]
  },
  {
   "cell_type": "code",
   "execution_count": null,
   "metadata": {
    "id": "0e86d208"
   },
   "outputs": [],
   "source": [
    "from matplotlib import pyplot as plt"
   ]
  },
  {
   "cell_type": "code",
   "execution_count": null,
   "metadata": {
    "id": "c7d9fb0b",
    "outputId": "e9a0b844-2810-45cd-94e3-6706d94c9f51"
   },
   "outputs": [
    {
     "data": {
      "text/plain": [
       "[<matplotlib.lines.Line2D at 0x283b394ebf0>]"
      ]
     },
     "execution_count": 18,
     "metadata": {},
     "output_type": "execute_result"
    },
    {
     "data": {
      "image/png": "[encoded data removed]",
      "text/plain": [
       "<Figure size 432x288 with 1 Axes>"
      ]
     },
     "metadata": {
      "needs_background": "light"
     },
     "output_type": "display_data"
    }
   ],
   "source": [
    "x_s = linspace(-10, 10, 10)\n",
    "y_s = [x**3 for x in x_s]\n",
    "\n",
    "plt.plot(x_s,y_s)"
   ]
  },
  {
   "cell_type": "markdown",
   "metadata": {
    "id": "c9b75a00"
   },
   "source": [
    "## Receita de Bolo"
   ]
  },
  {
   "cell_type": "code",
   "execution_count": null,
   "metadata": {
    "id": "f63319ad",
    "outputId": "50424dfe-3a3e-479e-a4a5-c24127251de6"
   },
   "outputs": [
    {
     "data": {
      "image/png": "[encoded data removed]",
      "text/plain": [
       "<Figure size 432x288 with 1 Axes>"
      ]
     },
     "metadata": {
      "needs_background": "light"
     },
     "output_type": "display_data"
    }
   ],
   "source": [
    "from matplotlib import pyplot as plt     #Importar matplotlib\n",
    "\n",
    "x_s = x_s #Declarando uma lista de x\n",
    "y_2x =[2*x for x in x_s] #Declarando uma lista de y\n",
    "\n",
    "y_xe2 = [x**2 for x in x_s]\n",
    "\n",
    "plt.plot(x_s,y_s) #Pode colocar quantas curvas você quiser\n",
    "plt.plot(x_s,y_2x)\n",
    "plt.plot(x_s,y_xe2)\n",
    "\n",
    "plt.show() # O Python separa uma paleta de cores, escalas e o tamanho automaticamente"
   ]
  },
  {
   "cell_type": "code",
   "execution_count": null,
   "metadata": {
    "id": "127a576d"
   },
   "outputs": [],
   "source": [
    "##Podemos configurar mais paramêtros e personalizar os gráficos"
   ]
  },
  {
   "cell_type": "markdown",
   "metadata": {
    "id": "e260d0cc"
   },
   "source": [
    "# Vamos configurar um gráfico Juntos e aposentar o Origin"
   ]
  },
  {
   "cell_type": "code",
   "execution_count": null,
   "metadata": {
    "colab": {
     "base_uri": "https://localhost:8080/",
     "height": 283
    },
    "executionInfo": {
     "elapsed": 954,
     "status": "ok",
     "timestamp": 1653593574466,
     "user": {
      "displayName": "Arthur Souza Molina",
      "userId": "17512929523336176007"
     },
     "user_tz": 180
    },
    "id": "8b0d7a7c",
    "outputId": "0128babb-bd34-4283-faed-2c06de4069dc"
   },
   "outputs": [
    {
     "data": {
      "image/png": "[encoded data removed]",
      "text/plain": [
       "<Figure size 432x288 with 1 Axes>"
      ]
     },
     "metadata": {
      "needs_background": "light"
     },
     "output_type": "display_data"
    }
   ],
   "source": [
    "from matplotlib import pyplot as plt\n",
    "import math\n",
    "\n",
    "xs = list(range(-10,10))\n",
    "ys = [math.exp(x) for x in xs]\n",
    "\n",
    "#plt.plot(abscissas, ordenadas, color='cor',label='rotulo da curva',linewidth=3, linestyle='--')\n",
    "\n",
    "plt.plot(xs, ys, 'v',label='Exponencial',color='green')\n",
    "\n",
    "\n",
    "plt.xlabel(\"Rotulo das abscissas: $x_s$\") # Rotular os eixos\n",
    "plt.ylabel(\"Rotulo das ordenadas: $e^x$\")\n",
    "\n",
    "plt.xscale('linear')\n",
    "plt.yscale('linear')\n",
    "\n",
    "plt.legend() #Mostrar a legenda\n",
    "\n",
    "plt.show()"
   ]
  },
  {
   "cell_type": "code",
   "execution_count": null,
   "metadata": {
    "colab": {
     "base_uri": "https://localhost:8080/",
     "height": 286
    },
    "executionInfo": {
     "elapsed": 925,
     "status": "ok",
     "timestamp": 1653593578289,
     "user": {
      "displayName": "Arthur Souza Molina",
      "userId": "17512929523336176007"
     },
     "user_tz": 180
    },
    "id": "92f5996c",
    "outputId": "e84584cc-1f1c-4e57-9f3c-4f2a4df12910"
   },
   "outputs": [
    {
     "data": {
      "text/plain": [
       "[<matplotlib.lines.Line2D at 0x7fccbca41a90>]"
      ]
     },
     "execution_count": 3,
     "metadata": {},
     "output_type": "execute_result"
    },
    {
     "data": {
      "image/png": "[encoded data removed]",
      "text/plain": [
       "<Figure size 432x288 with 6 Axes>"
      ]
     },
     "metadata": {
      "needs_background": "light"
     },
     "output_type": "display_data"
    }
   ],
   "source": [
    "#figs, axs = plt.subplot(nlinhas,ncolunas, figsize = (3,4))\n",
    "fig, ax = plt.subplots(2,3)\n",
    "\n",
    "xs = list(range(-100,100))\n",
    "y = [x**2 for x in xs]\n",
    "\n",
    "ax[0,0].plot(xs,y)\n",
    "ax[1,0].plot(y,xs)"
   ]
  }
 ],
 "metadata": {
  "colab": {
   "name": "Gráficos/Bibliotecas.ipynb",
   "provenance": []
  },
  "kernelspec": {
   "display_name": "Python 3",
   "language": "python",
   "name": "python3"
  },
  "language_info": {
   "codemirror_mode": {
    "name": "ipython",
    "version": 3
   },
   "file_extension": ".py",
   "mimetype": "text/x-python",
   "name": "python",
   "nbconvert_exporter": "python",
   "pygments_lexer": "ipython3",
   "version": "3.8.10"
  }
 },
 "nbformat": 4,
 "nbformat_minor": 5
}
