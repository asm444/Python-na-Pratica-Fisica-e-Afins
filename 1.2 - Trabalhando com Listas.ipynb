{
 "cells": [
  {
   "cell_type": "markdown",
   "metadata": {
    "id": "9ca04151"
   },
   "source": [
    "### Listas"
   ]
  },
  {
   "cell_type": "markdown",
   "metadata": {
    "id": "3e22bd60"
   },
   "source": [
    "Lista é literalmente o que seu nome sugere, ela guarda valores ou outros objetos em uma sequência ordenada de itens que pode ser localizada através de indices. Assim como qualquer outra linguagem de programação, o seu espaço ou melhor escrevendo, a sua memória começa no valor 0 e conforme os valores forem sendo adicionados, o seu tamanho aumentará proporcionalmente."
   ]
  },
  {
   "cell_type": "code",
   "execution_count": null,
   "metadata": {
    "id": "b6308fc6",
    "outputId": "bfe95fe4-21fa-4cf4-84ba-308eaa2e98c5"
   },
   "outputs": [
    {
     "name": "stdout",
     "output_type": "stream",
     "text": [
      "0\n"
     ]
    }
   ],
   "source": [
    "#Exemplo de Listas\n",
    "\n",
    "lista = [9,3,6,1,0]\n",
    "\n",
    "ordem_LR = [0,1,2,3,4,5,6,7,8,9,10]\n",
    "\n",
    "ordem_RL = [-11,-10,-9,-8,-7,-6,-5,-4,-3,-2,-1]"
   ]
  },
  {
   "cell_type": "code",
   "execution_count": null,
   "metadata": {
    "id": "442e3920",
    "outputId": "5f5f06fc-193e-4819-91a5-d2a837fabd31"
   },
   "outputs": [
    {
     "data": {
      "text/plain": [
       "list"
      ]
     },
     "execution_count": 44,
     "metadata": {},
     "output_type": "execute_result"
    }
   ],
   "source": [
    "type(lista) #Um objeto"
   ]
  },
  {
   "cell_type": "code",
   "execution_count": null,
   "metadata": {
    "id": "0a3351cc",
    "outputId": "ca048a6d-dbcc-4b0a-dd7e-b885dd0a25f3"
   },
   "outputs": [
    {
     "data": {
      "text/plain": [
       "9"
      ]
     },
     "execution_count": 45,
     "metadata": {},
     "output_type": "execute_result"
    }
   ],
   "source": [
    "lista[0] # Localização por indice"
   ]
  },
  {
   "cell_type": "code",
   "execution_count": null,
   "metadata": {
    "id": "0ddbbaf8",
    "outputId": "e37787af-9824-4d7a-f283-1f4937522f07"
   },
   "outputs": [
    {
     "data": {
      "text/plain": [
       "5"
      ]
     },
     "execution_count": 46,
     "metadata": {},
     "output_type": "execute_result"
    }
   ],
   "source": [
    "len(lista) # Tamanho"
   ]
  },
  {
   "cell_type": "code",
   "execution_count": null,
   "metadata": {
    "id": "d420499a",
    "outputId": "78d458a3-2952-42a9-846b-3fb4a97ae085"
   },
   "outputs": [
    {
     "name": "stdout",
     "output_type": "stream",
     "text": [
      "[9, 3, 6, 1, 0, 4]\n",
      "[0, 1, 2, 3, 4, 5, 6, 7, 8, 9, 10]\n"
     ]
    }
   ],
   "source": [
    "#Como adicionar objetos na sua lista?\n",
    "lista.append(4)\n",
    "\n",
    "print(lista)\n",
    "print(ordem)"
   ]
  },
  {
   "cell_type": "code",
   "execution_count": null,
   "metadata": {
    "id": "87474d35",
    "outputId": "c39f4dcf-ad01-40a6-99e3-0d27d0e64e98"
   },
   "outputs": [
    {
     "name": "stdout",
     "output_type": "stream",
     "text": [
      "[9, 3, 1, 0, 4]\n",
      "[0, 1, 2, 3, 4, 5, 6, 7, 8, 9, 10]\n"
     ]
    }
   ],
   "source": [
    "#Como remover um objeto?\n",
    "\n",
    "lista.remove(6)\n",
    "\n",
    "print(lista)\n",
    "print(ordem)"
   ]
  },
  {
   "cell_type": "code",
   "execution_count": null,
   "metadata": {
    "id": "fa4e95a3",
    "outputId": "a6366656-f7b4-429e-cf72-eb1e0a694589"
   },
   "outputs": [
    {
     "name": "stdout",
     "output_type": "stream",
     "text": [
      "[9, 3, 1, 0, 4, 1, 2, 85, 7]\n"
     ]
    }
   ],
   "source": [
    "#Se tiver outra lista que eu tenha como interesse agrupa-las em apenas uma lista?\n",
    "\n",
    "lista_2 = [1,2,85,7]\n",
    "\n",
    "#lista <--- Que eu já tenho\n",
    "\n",
    "lista.extend(lista_2)\n",
    "\n",
    "print(lista)"
   ]
  },
  {
   "cell_type": "code",
   "execution_count": null,
   "metadata": {
    "id": "12070d35"
   },
   "outputs": [],
   "source": [
    "lista.append(print)"
   ]
  },
  {
   "cell_type": "code",
   "execution_count": null,
   "metadata": {
    "id": "8216a7ea",
    "outputId": "cc9b62f3-1401-47cf-e453-c6bedfe15656"
   },
   "outputs": [
    {
     "name": "stdout",
     "output_type": "stream",
     "text": [
      "[9, 3, 1, 0, 4, 1, 2, 85, 7, <built-in function print>]\n",
      "[0, 1, 2, 3, 4, 5, 6, 7, 8, 9, 10]\n"
     ]
    }
   ],
   "source": [
    "print(lista) # Uma prova que qualquer objeto pode ser armazenado em uma lista, a pegunta é \"Por que não?!\"\n",
    "print(ordem)"
   ]
  },
  {
   "cell_type": "code",
   "execution_count": null,
   "metadata": {
    "id": "mfplNJqVRYwH"
   },
   "outputs": [],
   "source": []
  },
  {
   "cell_type": "code",
   "execution_count": null,
   "metadata": {
    "id": "39dfdfff",
    "outputId": "23c7eae9-69ce-4d36-e811-0dd57bd16a00"
   },
   "outputs": [
    {
     "name": "stdout",
     "output_type": "stream",
     "text": [
      "Olá Pessoal\n"
     ]
    }
   ],
   "source": [
    "lista[9](\"Olá Pessoal\")"
   ]
  },
  {
   "cell_type": "code",
   "execution_count": null,
   "metadata": {
    "id": "eb5d0d07"
   },
   "outputs": [],
   "source": [
    "# Como substituir um objeto no lugar de um outro objeto?\n",
    "\n",
    "lista[2] = 2"
   ]
  },
  {
   "cell_type": "code",
   "execution_count": null,
   "metadata": {
    "id": "486bebed",
    "outputId": "4d16eeae-7197-4097-9a40-519b1bd6bf94"
   },
   "outputs": [
    {
     "name": "stdout",
     "output_type": "stream",
     "text": [
      "[9, 4, 2, 2, 85, 7, <built-in function print>]\n"
     ]
    }
   ],
   "source": [
    "print(lista)"
   ]
  },
  {
   "cell_type": "code",
   "execution_count": null,
   "metadata": {
    "id": "3e5c857a"
   },
   "outputs": [],
   "source": [
    "#Podemos ter listas de listas?\n",
    "\n",
    "lista = [ [1,2,3,4,4] ,\n",
    "         \n",
    "          [2,4,212,45,45]]"
   ]
  },
  {
   "cell_type": "code",
   "execution_count": null,
   "metadata": {
    "id": "ff796d09",
    "outputId": "77c6db7e-1ec8-4b10-fe1f-0c352f515844"
   },
   "outputs": [
    {
     "name": "stdout",
     "output_type": "stream",
     "text": [
      "[[1, 2, 3, 4, 4], [2, 4, 212, 45, 45]]\n"
     ]
    }
   ],
   "source": [
    "print(lista)"
   ]
  },
  {
   "cell_type": "code",
   "execution_count": null,
   "metadata": {
    "id": "8df759ab",
    "outputId": "cd7cdbc2-bb09-4237-fdf0-54677cc4fe4b"
   },
   "outputs": [
    {
     "name": "stdout",
     "output_type": "stream",
     "text": [
      "4\n"
     ]
    }
   ],
   "source": [
    "#Como acessar um valor de uma lista dentro de outra lista?\n",
    "\n",
    "print(lista[0][3])"
   ]
  },
  {
   "cell_type": "code",
   "execution_count": null,
   "metadata": {
    "id": "d6b6085b",
    "outputId": "525a42c5-6ad2-4bf9-843f-3ebe87f4c41b"
   },
   "outputs": [
    {
     "name": "stdout",
     "output_type": "stream",
     "text": [
      "[1, 2, 3, 4, 4, [0, 2, 3, 4, 2], [0, 2, 3, 4, 2]] ,\n",
      " [2, 4, 212, 45, 45]\n"
     ]
    }
   ],
   "source": [
    "lista[0].append([0,2,3,4,2])\n",
    "\n",
    "print(lista[0],',\\n', lista[1])"
   ]
  },
  {
   "cell_type": "code",
   "execution_count": null,
   "metadata": {
    "id": "0074acc6",
    "outputId": "462f51ec-8de0-40bc-9a20-a286b8f4b078"
   },
   "outputs": [
    {
     "data": {
      "text/plain": [
       "4"
      ]
     },
     "execution_count": 63,
     "metadata": {},
     "output_type": "execute_result"
    }
   ],
   "source": [
    "lista[0][-1][3]"
   ]
  },
  {
   "cell_type": "markdown",
   "metadata": {
    "id": "339e4fee"
   },
   "source": []
  },
  {
   "cell_type": "code",
   "execution_count": null,
   "metadata": {
    "id": "60fc6972"
   },
   "outputs": [],
   "source": []
  }
 ],
 "metadata": {
  "colab": {
   "name": "Listas.ipynb",
   "provenance": []
  },
  "kernelspec": {
   "display_name": "Python 3",
   "language": "python",
   "name": "python3"
  },
  "language_info": {
   "codemirror_mode": {
    "name": "ipython",
    "version": 3
   },
   "file_extension": ".py",
   "mimetype": "text/x-python",
   "name": "python",
   "nbconvert_exporter": "python",
   "pygments_lexer": "ipython3",
   "version": "3.8.10"
  }
 },
 "nbformat": 4,
 "nbformat_minor": 5
}
