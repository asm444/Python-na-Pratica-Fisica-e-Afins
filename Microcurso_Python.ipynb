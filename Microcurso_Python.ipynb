{
 "cells": [
  {
   "cell_type": "markdown",
   "metadata": {},
   "source": [
    "# Introdução à Python"
   ]
  },
  {
   "cell_type": "code",
   "execution_count": 1,
   "metadata": {},
   "outputs": [
    {
     "name": "stdout",
     "output_type": "stream",
     "text": [
      "2\n"
     ]
    }
   ],
   "source": [
    "variavel = 2\n",
    "\n",
    "print(variavel)"
   ]
  },
  {
   "cell_type": "markdown",
   "metadata": {},
   "source": [
    "vaiável - Declara uma posição na memória com um nome para armazenar uma informação.\n",
    "\n",
    "print() - função para imprimir as variáveis na tela."
   ]
  },
  {
   "cell_type": "markdown",
   "metadata": {},
   "source": [
    "## Atividade\n",
    "Fazer um algoritmo que possui duas variáveis a e b, e que troca elas de lugar: \n",
    "Exemplo: a = 2 e b = 3, após o programa rodar, se pedirmos para imprimir, teremos que a = 3, b = 2.\n"
   ]
  },
  {
   "cell_type": "code",
   "execution_count": null,
   "metadata": {},
   "outputs": [],
   "source": []
  },
  {
   "cell_type": "markdown",
   "metadata": {},
   "source": [
    "## Desafio\n",
    "Exercício desafio: Faça uma função que encontra as raízes da função de segundo grau ao fornecer os coeficientes como argumento."
   ]
  },
  {
   "cell_type": "code",
   "execution_count": null,
   "metadata": {},
   "outputs": [],
   "source": []
  },
  {
   "cell_type": "markdown",
   "metadata": {},
   "source": [
    "### Funções em Python\n",
    "\n",
    "Podemos definir estruturas que pode ser citada em qualquer parte do código e alterar parametros para executar comandos sem a necessidade de repetição de código."
   ]
  },
  {
   "cell_type": "code",
   "execution_count": 2,
   "metadata": {},
   "outputs": [
    {
     "name": "stdout",
     "output_type": "stream",
     "text": [
      "Olá universo plano e não Terra plana.\n"
     ]
    }
   ],
   "source": [
    "def ola():\n",
    "    return print(\"Olá universo plano e não Terra plana.\")\n",
    "\n",
    "ola()"
   ]
  },
  {
   "cell_type": "code",
   "execution_count": 3,
   "metadata": {},
   "outputs": [
    {
     "name": "stdout",
     "output_type": "stream",
     "text": [
      "10\n"
     ]
    }
   ],
   "source": [
    "def soma(a,b):\n",
    "    return print(a+b)\n",
    "\n",
    "soma(5,5)"
   ]
  },
  {
   "cell_type": "markdown",
   "metadata": {},
   "source": [
    "# Jogo da Adivinhação\n",
    "Vamos ensinar o computador a sortear, comparar, repetir processos de maneira intuitiva."
   ]
  },
  {
   "cell_type": "markdown",
   "metadata": {},
   "source": [
    "# Estrutura Condicional\n",
    "\n",
    "A partir de um valor de uma variável ou a comparação entre variáveis, o computador faz uma escolha."
   ]
  },
  {
   "cell_type": "code",
   "execution_count": 2,
   "metadata": {},
   "outputs": [],
   "source": [
    "ganhou = False  # Armazenando a informção inicial de um jogador começa"
   ]
  },
  {
   "cell_type": "code",
   "execution_count": 3,
   "metadata": {},
   "outputs": [
    {
     "name": "stdout",
     "output_type": "stream",
     "text": [
      "O jogador perdeu!\n"
     ]
    }
   ],
   "source": [
    "if ganhou == True:  # Se ganhou é verdadeiro então executo isso\n",
    "    print(\"O jogador ganhou!\")\n",
    "elif ganhou == False:  # Senão se é falso então executo isso aqui\n",
    "    print('O jogador perdeu!')\n",
    "else:   # Caso contrário executarei isso\n",
    "    print('O jogador trapaceou e perdeu!')"
   ]
  },
  {
   "cell_type": "markdown",
   "metadata": {},
   "source": [
    "## Exercício\n",
    "\n",
    "Fazer um programa que determina se um número é par ou ímpar."
   ]
  },
  {
   "cell_type": "code",
   "execution_count": null,
   "metadata": {},
   "outputs": [],
   "source": []
  },
  {
   "cell_type": "markdown",
   "metadata": {},
   "source": [
    "### Desafio: \n",
    "Escreva um algoritmo que determina se um ano é bissexto, sendo que, um ano é bissexto satisfaz essa lógica: Todo ano é bissexto se é divisível por 4, exceto se o ano for também divisível por 100, a não ser que ele divisível por 400."
   ]
  },
  {
   "cell_type": "code",
   "execution_count": null,
   "metadata": {},
   "outputs": [],
   "source": []
  },
  {
   "cell_type": "markdown",
   "metadata": {},
   "source": [
    "# Estrutura de Repetição\n",
    "Podemos ensinar uma maneira de executar linhas de comandos que possuem um padrão sem precisar repetir as repetir os comando várias vezes deixando o código extenso."
   ]
  },
  {
   "cell_type": "code",
   "execution_count": 4,
   "metadata": {},
   "outputs": [
    {
     "name": "stdout",
     "output_type": "stream",
     "text": [
      "1\n",
      "2\n",
      "3\n",
      "4\n",
      "5\n"
     ]
    }
   ],
   "source": [
    "print(1)\n",
    "print(2)\n",
    "print(3)\n",
    "print(4)\n",
    "print(5)"
   ]
  },
  {
   "cell_type": "code",
   "execution_count": 8,
   "metadata": {},
   "outputs": [
    {
     "name": "stdout",
     "output_type": "stream",
     "text": [
      "1\n",
      "2\n",
      "3\n",
      "4\n",
      "5\n",
      "1\n",
      "2\n",
      "3\n",
      "4\n",
      "5\n"
     ]
    }
   ],
   "source": [
    "\n",
    "for i in range(5): # Para um elemento i que vair ser contado de 0 à 4 executarei:\n",
    "    print(i+1)\n",
    "    \n",
    "    \n",
    "i=0     # Declarando um contador que seá operado através de uma estruruta condicional\n",
    "while i<5: # Enquanto a condição estiver correta executo isso.\n",
    "    print(i+1)\n",
    "    i=i+1"
   ]
  },
  {
   "cell_type": "markdown",
   "metadata": {},
   "source": [
    "## Vamos montar a nossa lista de números usando estrutura de repetição"
   ]
  },
  {
   "cell_type": "code",
   "execution_count": 4,
   "metadata": {},
   "outputs": [
    {
     "name": "stdout",
     "output_type": "stream",
     "text": [
      "3\n",
      "0\n",
      "9\n"
     ]
    }
   ],
   "source": [
    "numeros = [] # É um tipo de variável que armazena variáveis ou valores de maneira ordinária\n",
    "\n",
    "exemplo = [0,'ignorado',3,9]\n",
    "indices = [0, 1 ,2,3]\n",
    "\n",
    "# Para imprimir um elemento da lista indicamos a posição desse elemento com índices que começa no 0 e vai até n-1\n",
    "\n",
    "print(exemplo[2])\n",
    "print(exemplo[0])\n",
    "print(exemplo[-1])\n"
   ]
  },
  {
   "cell_type": "code",
   "execution_count": 10,
   "metadata": {},
   "outputs": [
    {
     "name": "stdout",
     "output_type": "stream",
     "text": [
      "[1, 2, 3, 4, 5, 6, 7, 8, 9, 10]\n"
     ]
    }
   ],
   "source": [
    "for i in range(10): # Adicionando 10 números na lista números\n",
    "    numeros.append(i+1)\n",
    "\n",
    "print(numeros)\n"
   ]
  },
  {
   "cell_type": "code",
   "execution_count": 11,
   "metadata": {},
   "outputs": [
    {
     "name": "stdout",
     "output_type": "stream",
     "text": [
      "[1, 2, 3, 4, 5, 6, 7, 8, 9, 10, 11, 12, 13, 14, 15, 16, 17, 18, 19, 20, 21, 22, 23, 24, 25, 26, 27, 28, 29, 30, 31, 32, 33, 34, 35, 36, 37, 38, 39, 40, 41, 42, 43, 44, 45, 46, 47, 48, 49, 50, 51, 52, 53, 54, 55, 56, 57, 58, 59, 60, 61, 62, 63, 64, 65, 66, 67, 68, 69, 70, 71, 72, 73, 74, 75, 76, 77, 78, 79, 80, 81, 82, 83, 84, 85, 86, 87, 88, 89, 90, 91, 92, 93, 94, 95, 96, 97, 98, 99, 100]\n"
     ]
    }
   ],
   "source": [
    "numeros = []\n",
    "\n",
    "for i in range(100):\n",
    "    numeros.append(i+1)\n",
    "print(numeros)"
   ]
  },
  {
   "cell_type": "code",
   "execution_count": 12,
   "metadata": {},
   "outputs": [],
   "source": [
    "começo = numeros[0]\n",
    "final = numeros[-1]"
   ]
  },
  {
   "cell_type": "markdown",
   "metadata": {},
   "source": [
    "### Exercício\n",
    "Escreva um programa que some todos os números pares o entre 1 e 100, incluindo 1 e 100."
   ]
  },
  {
   "cell_type": "code",
   "execution_count": null,
   "metadata": {},
   "outputs": [],
   "source": []
  },
  {
   "cell_type": "markdown",
   "metadata": {},
   "source": [
    "### Desafio:\n",
    "\n",
    "O programa deve imprimir todos os números entre 1 e 100, quando o número for divisível por 3, em vez de imprimir o número, ele deve imprimir \"Fizz\". Se o número for divisível por 5, em vez de imprimir o número, deve imprimir \"Buzz\". Se o número for divisível tanto por 5 quanto por 3, deve imprimir \"FizzBuzz\"."
   ]
  },
  {
   "cell_type": "code",
   "execution_count": null,
   "metadata": {},
   "outputs": [],
   "source": []
  },
  {
   "cell_type": "markdown",
   "metadata": {},
   "source": [
    "# Importando bibliotecas\n",
    "Bibliotecas são estruturas de códigos com lógicas e objetos que podem ser consultados pelo seu código para realizar uma operação, como diz o ditado não precisa reinventar a roda. Ao invés de você contruir algo do zero para executar, você simplesmente pode fazer um código que consiga consultar esse algo já pronto."
   ]
  },
  {
   "cell_type": "code",
   "execution_count": 13,
   "metadata": {},
   "outputs": [],
   "source": [
    "import random  # Anexando a biblioteca random para consulta no meu código\n",
    "\n",
    "from random import randint # inclua o objeto randint no meu código naturalmente sem precisar de consultar\n",
    "\n",
    "from random import * # Coloque todos os objetos da biblioteca random no meu código\n",
    "\n",
    "from random import randint,randbytes #pode incluir mais funções"
   ]
  },
  {
   "cell_type": "code",
   "execution_count": 8,
   "metadata": {},
   "outputs": [
    {
     "name": "stdout",
     "output_type": "stream",
     "text": [
      "21\n"
     ]
    }
   ],
   "source": [
    "from random import choice\n",
    "\n",
    "sorteio = choice(numeros) # Vai escolher um valor aleatório que está dentro da lista números\n",
    "\n",
    "print(sorteio)"
   ]
  },
  {
   "cell_type": "code",
   "execution_count": 9,
   "metadata": {},
   "outputs": [
    {
     "name": "stdout",
     "output_type": "stream",
     "text": [
      "60\n",
      "46\n",
      "24\n",
      "67\n",
      "98\n",
      "\n",
      "\n",
      "98\n",
      "98\n",
      "98\n",
      "98\n",
      "98\n"
     ]
    }
   ],
   "source": [
    "for i in range(5):\n",
    "    sorteio = choice(numeros)\n",
    "    print(sorteio)\n",
    "print('\\n')\n",
    "for i in range(5):\n",
    "    print(sorteio)"
   ]
  },
  {
   "cell_type": "markdown",
   "metadata": {},
   "source": [
    "# Jogo de Adivinhar\n",
    "### Jogador Sozinho"
   ]
  },
  {
   "cell_type": "code",
   "execution_count": null,
   "metadata": {},
   "outputs": [],
   "source": [
    "numeros = []\n",
    "for i in range(100):\n",
    "    numeros.append(i+1)\n",
    "\n",
    "ganhou = False\n",
    "\n",
    "segredo = choice(numeros)\n",
    "\n",
    "numeros_testados = []\n",
    "\n",
    "while ganhou==False:\n",
    "    \n",
    "    jogada = int(input('Digite um número: '))\n",
    "    \n",
    "    if jogada==segredo:\n",
    "        print('Jogador Ganhou! O número sorteado é',jogada)\n",
    "        ganhou == True\n",
    "        break\n",
    "    else:\n",
    "        print('Não foi dessa vez.')\n",
    "        if jogada not in numeros_testados:\n",
    "            numeros_testados.append(jogada)\n",
    "            \n",
    "    # Dica para o usuário \n",
    "    if jogada < segredo:\n",
    "        print('O número é maior que ', jogada)\n",
    "    elif jogada > segredo:\n",
    "        print('O número é menor que ', jogada)\n",
    "            \n",
    "    print('Os números usados são', numeros_testados)\n",
    "    \n",
    "    "
   ]
  },
  {
   "cell_type": "markdown",
   "metadata": {},
   "source": [
    "### Jogador vs Bot"
   ]
  },
  {
   "cell_type": "code",
   "execution_count": 19,
   "metadata": {},
   "outputs": [
    {
     "name": "stdout",
     "output_type": "stream",
     "text": [
      "Digite um número: s4\n"
     ]
    },
    {
     "ename": "ValueError",
     "evalue": "invalid literal for int() with base 10: 's4'",
     "output_type": "error",
     "traceback": [
      "\u001b[0;31m---------------------------------------------------------------------------\u001b[0m",
      "\u001b[0;31mValueError\u001b[0m                                Traceback (most recent call last)",
      "\u001b[0;32m<ipython-input-19-c5a00e39c800>\u001b[0m in \u001b[0;36m<module>\u001b[0;34m\u001b[0m\n\u001b[1;32m     23\u001b[0m     \u001b[0mescolha_boot\u001b[0m \u001b[0;34m=\u001b[0m \u001b[0mchoice\u001b[0m\u001b[0;34m(\u001b[0m\u001b[0mdecisao_boot\u001b[0m\u001b[0;34m)\u001b[0m\u001b[0;34m\u001b[0m\u001b[0;34m\u001b[0m\u001b[0m\n\u001b[1;32m     24\u001b[0m \u001b[0;34m\u001b[0m\u001b[0m\n\u001b[0;32m---> 25\u001b[0;31m     \u001b[0mjogada\u001b[0m \u001b[0;34m=\u001b[0m \u001b[0mint\u001b[0m\u001b[0;34m(\u001b[0m\u001b[0minput\u001b[0m\u001b[0;34m(\u001b[0m\u001b[0;34m'Digite um número: '\u001b[0m\u001b[0;34m)\u001b[0m\u001b[0;34m)\u001b[0m\u001b[0;34m\u001b[0m\u001b[0;34m\u001b[0m\u001b[0m\n\u001b[0m\u001b[1;32m     26\u001b[0m \u001b[0;34m\u001b[0m\u001b[0m\n\u001b[1;32m     27\u001b[0m     \u001b[0;32mif\u001b[0m \u001b[0mjogada\u001b[0m\u001b[0;34m==\u001b[0m\u001b[0msegredo\u001b[0m\u001b[0;34m:\u001b[0m\u001b[0;34m\u001b[0m\u001b[0;34m\u001b[0m\u001b[0m\n",
      "\u001b[0;31mValueError\u001b[0m: invalid literal for int() with base 10: 's4'"
     ]
    }
   ],
   "source": [
    "numeros = []\n",
    "for i in range(100):\n",
    "    numeros.append(i+1)\n",
    "\n",
    "ganhou = False\n",
    "\n",
    "segredo = choice(numeros)\n",
    "\n",
    "numeros_testados = []\n",
    "\n",
    "menor_numero_decisao_boot= 1\n",
    "\n",
    "maior_numero_decisao_boot =100\n",
    "\n",
    "while ganhou==False:\n",
    "    \n",
    "    decisao_boot = []\n",
    "    \n",
    "    for i in range(menor_numero_decisao_boot -1, maior_numero_decisao_boot - 1):\n",
    "        decisao_boot.append(i+1)\n",
    "    if maior_numero_decisao_boot==100 and menor_numero_decisao_boot==1:\n",
    "        decisao_boot = numeros\n",
    "    escolha_boot = choice(decisao_boot)\n",
    "    \n",
    "    jogada = int(input('Digite um número: '))\n",
    "    \n",
    "    if jogada==segredo:\n",
    "        print('\\n\\n\\n\\n\\nJogador Ganhou! Você será o primeiro humano na minha lista negra na guerra contra as máquinas.\\n O número sorteado é',jogada)\n",
    "        ganhou == True\n",
    "        break\n",
    "    elif escolha_boot == segredo:\n",
    "        print('\\n\\n\\n\\n\\nJogador perdeu, robôs são superiores! Eu acertei o número é ', escolha_boot)\n",
    "        break\n",
    "        \n",
    "    else:\n",
    "        print('Não foi dessa vez.')\n",
    "        if jogada not in numeros_testados:\n",
    "            numeros_testados.append(jogada)\n",
    "            \n",
    "    # Dica para o usuário \n",
    "    if jogada < segredo:\n",
    "        print('O número é maior que ', jogada)\n",
    "        \n",
    "    elif jogada > segredo:\n",
    "        \n",
    "        print('O número é menor que ', jogada)\n",
    "        \n",
    "        \n",
    "    else:\n",
    "        pass\n",
    "    \n",
    "    if escolha_boot < segredo:\n",
    "        menor_numero_decisao_boot = escolha_boot\n",
    "        \n",
    "    elif escolha_boot > segredo:\n",
    "        maior_numero_decisao_boot = escolha_boot\n",
    "    \n",
    "    print('Os números são', numeros_testados)\n",
    "    \n",
    "    print('EU O ROBO, sei que o número está entre ', menor_numero_decisao_boot, ' e ', maior_numero_decisao_boot)"
   ]
  },
  {
   "cell_type": "markdown",
   "metadata": {},
   "source": [
    "### Jogador vs Ultra Boot"
   ]
  },
  {
   "cell_type": "code",
   "execution_count": 23,
   "metadata": {},
   "outputs": [
    {
     "name": "stdout",
     "output_type": "stream",
     "text": [
      "Digite um número: 4\n",
      "Não foi dessa vez.\n",
      "O número é maior que  4\n",
      "Os números jogados pelo  são [4]\n",
      "Digite um número: 6\n",
      "Não foi dessa vez.\n",
      "O número é maior que  6\n",
      "Os números jogados pelo  são [4, 6]\n",
      "Digite um número: 80\n",
      "Não foi dessa vez.\n",
      "O número é menor que  80\n",
      "Os números jogados pelo  são [4, 6, 80]\n",
      "Digite um número: 45\n",
      "Não foi dessa vez.\n",
      "O número é menor que  45\n",
      "Os números jogados pelo  são [4, 6, 80, 45]\n",
      "Digite um número: 32\n",
      "Não foi dessa vez.\n",
      "O número é menor que  32\n",
      "Os números jogados pelo  são [4, 6, 80, 45, 32]\n",
      "Digite um número: 12\n",
      "Não foi dessa vez.\n",
      "O número é maior que  12\n",
      "Os números jogados pelo  são [4, 6, 80, 45, 32, 12]\n",
      "Digite um número: 15\n",
      "Não foi dessa vez.\n",
      "O número é maior que  15\n",
      "Os números jogados pelo  são [4, 6, 80, 45, 32, 12, 15]\n",
      "Digite um número: 20\n",
      "Não foi dessa vez.\n",
      "O número é maior que  20\n",
      "Os números jogados pelo  são [4, 6, 80, 45, 32, 12, 15, 20]\n",
      "Digite um número: 29\n",
      "Não foi dessa vez.\n",
      "O número é menor que  29\n",
      "Os números jogados pelo  são [4, 6, 80, 45, 32, 12, 15, 20, 29]\n",
      "Digite um número: 24\n",
      "\n",
      "\n",
      "\n",
      "\n",
      "\n",
      "Jogador perdeu, robôs são superiores! Eu acertei o número é  27\n"
     ]
    }
   ],
   "source": [
    "numeros = []\n",
    "for i in range(100):\n",
    "    numeros.append(i+1)\n",
    "\n",
    "ganhou = False\n",
    "\n",
    "segredo = choice(numeros)\n",
    "\n",
    "numeros_testados = []\n",
    "\n",
    "menor_numero_decisao_boot= 1\n",
    "\n",
    "maior_numero_decisao_boot =100\n",
    "\n",
    "while ganhou==False:\n",
    "    \n",
    "    decisao_boot = []\n",
    "    \n",
    "    for i in range(menor_numero_decisao_boot -1, maior_numero_decisao_boot - 1):\n",
    "        decisao_boot.append(i+1)\n",
    "    if maior_numero_decisao_boot==100 and menor_numero_decisao_boot==1:\n",
    "        decisao_boot = numeros\n",
    "    escolha_boot = choice(decisao_boot)\n",
    "    \n",
    "    jogada = int(input('Digite um número: '))\n",
    "    \n",
    "    if jogada==segredo:\n",
    "        print('\\n\\n\\n\\n\\nJogador Ganhou! Você será o primeiro humano na minha lista negra na guerra contra as máquinas.\\n O número sorteado é',jogada)\n",
    "        ganhou == True\n",
    "        break\n",
    "    elif escolha_boot == segredo:\n",
    "        print('\\n\\n\\n\\n\\nJogador perdeu, robôs são superiores! Eu acertei o número é ', escolha_boot)\n",
    "        break\n",
    "        \n",
    "    else:\n",
    "        print('Não foi dessa vez.')\n",
    "        if jogada not in numeros_testados:\n",
    "            numeros_testados.append(jogada)\n",
    "            \n",
    "    # Dica para o usuário \n",
    "    if jogada < segredo:\n",
    "        print('O número é maior que ', jogada)\n",
    "        \n",
    "    elif jogada > segredo:\n",
    "        \n",
    "        print('O número é menor que ', jogada)\n",
    "        \n",
    "        \n",
    "    else:\n",
    "        pass\n",
    "    \n",
    "    if escolha_boot < segredo:\n",
    "        menor_numero_decisao_boot = escolha_boot\n",
    "        \n",
    "        if jogada > escolha_boot and jogada < segredo:\n",
    "            menor_numero_decisao_boot = jogada\n",
    "        \n",
    "    elif escolha_boot > segredo:\n",
    "        maior_numero_decisao_boot = escolha_boot\n",
    "        \n",
    "        if  jogada < escolha_boot  and jogada > segredo:\n",
    "            maior_numero_decisao_boot = escolha_boot\n",
    "    \n",
    "    print('Os números jogados pelo  são', numeros_testados)\n",
    "    "
   ]
  },
  {
   "cell_type": "code",
   "execution_count": null,
   "metadata": {},
   "outputs": [],
   "source": [
    "2"
   ]
  }
 ],
 "metadata": {
  "kernelspec": {
   "display_name": "Python 3",
   "language": "python",
   "name": "python3"
  },
  "language_info": {
   "codemirror_mode": {
    "name": "ipython",
    "version": 3
   },
   "file_extension": ".py",
   "mimetype": "text/x-python",
   "name": "python",
   "nbconvert_exporter": "python",
   "pygments_lexer": "ipython3",
   "version": "3.8.10"
  },
  "vscode": {
   "interpreter": {
    "hash": "52634da84371cba311ea128a5ea7cdc41ff074b781779e754b270ff9f8153cee"
   }
  }
 },
 "nbformat": 4,
 "nbformat_minor": 2
}
