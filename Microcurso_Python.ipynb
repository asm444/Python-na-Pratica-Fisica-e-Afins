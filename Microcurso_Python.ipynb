{
 "cells": [
  {
   "cell_type": "markdown",
   "metadata": {},
   "source": [
    "# Introdução à Python"
   ]
  },
  {
   "cell_type": "code",
   "execution_count": 1,
   "metadata": {},
   "outputs": [
    {
     "name": "stdout",
     "output_type": "stream",
     "text": [
      "2\n"
     ]
    }
   ],
   "source": [
    "variavel = 2\n",
    "\n",
    "print(variavel)"
   ]
  },
  {
   "cell_type": "markdown",
   "metadata": {},
   "source": [
    "vaiável - Declara uma posição na memória com um nome para armazenar uma informação.\n",
    "\n",
    "print() - função para imprimir as variáveis na tela."
   ]
  },
  {
   "cell_type": "markdown",
   "metadata": {},
   "source": [
    "# Jogo da Adivinhação\n",
    "Vamos ensinar o computador a sortear, comparar, repetir processos de maneira intuitiva."
   ]
  },
  {
   "cell_type": "code",
   "execution_count": 2,
   "metadata": {},
   "outputs": [],
   "source": [
    "ganhou = False  # Armazenando a informção inicial de um jogador começa"
   ]
  },
  {
   "cell_type": "markdown",
   "metadata": {},
   "source": [
    "# Estrutura Condicional\n",
    "\n",
    "A partir de um valor de uma variável ou a comparação entre variáveis, o computador faz uma escolha."
   ]
  },
  {
   "cell_type": "code",
   "execution_count": 3,
   "metadata": {},
   "outputs": [
    {
     "name": "stdout",
     "output_type": "stream",
     "text": [
      "O jogador perdeu!\n"
     ]
    }
   ],
   "source": [
    "if ganhou == True:  # Se ganhou é verdadeiro então executo isso\n",
    "    print(\"O jogador ganhou!\")\n",
    "elif ganhou == False:  # Senão se é falso então executo isso aqui\n",
    "    print('O jogador perdeu!')\n",
    "else:   # Caso contrário executarei isso\n",
    "    print('O jogador trapaceou e perdeu!')"
   ]
  },
  {
   "cell_type": "markdown",
   "metadata": {},
   "source": [
    "# Estrutura de Repetição\n",
    "Podemos ensinar uma maneira de executar linhas de comandos que possuem um padrão sem precisar repetir as repetir os comando várias vezes deixando o código extenso."
   ]
  },
  {
   "cell_type": "code",
   "execution_count": 4,
   "metadata": {},
   "outputs": [
    {
     "name": "stdout",
     "output_type": "stream",
     "text": [
      "1\n",
      "2\n",
      "3\n",
      "4\n",
      "5\n"
     ]
    }
   ],
   "source": [
    "print(1)\n",
    "print(2)\n",
    "print(3)\n",
    "print(4)\n",
    "print(5)"
   ]
  },
  {
   "cell_type": "code",
   "execution_count": 8,
   "metadata": {},
   "outputs": [
    {
     "name": "stdout",
     "output_type": "stream",
     "text": [
      "1\n",
      "2\n",
      "3\n",
      "4\n",
      "5\n",
      "1\n",
      "2\n",
      "3\n",
      "4\n",
      "5\n"
     ]
    }
   ],
   "source": [
    "\n",
    "for i in range(5): # Para um elemento i que vair ser contado de 0 à 4 executarei:\n",
    "    print(i+1)\n",
    "    \n",
    "    \n",
    "i=0     # Declarando um contador que seá operado através de uma estruruta condicional\n",
    "while i<5: # Enquanto a condição estiver correta executo isso.\n",
    "    print(i+1)\n",
    "    i=i+1"
   ]
  },
  {
   "cell_type": "markdown",
   "metadata": {},
   "source": [
    "## Vamos montar a nossa lista de números usando estrutura de repetição"
   ]
  },
  {
   "cell_type": "code",
   "execution_count": 23,
   "metadata": {},
   "outputs": [
    {
     "name": "stdout",
     "output_type": "stream",
     "text": [
      "3\n",
      "0\n",
      "Doidera\n",
      "None\n"
     ]
    }
   ],
   "source": [
    "numeros = [] # É um tipo de variável que armazena variáveis ou valores de maneira ordinária\n",
    "\n",
    "exemplo = [0,'ignorado',3,9]\n",
    "indices = [0, 1 ,2,3]\n",
    "\n",
    "# Para imprimir um elemento da lista indicamos a posição desse elemento com índices que começa no 0 e vai até n-1\n",
    "print(exemplo[2])\n",
    "print(exemplo[0])\n",
    "print(exemplo[-1])\n"
   ]
  },
  {
   "cell_type": "code",
   "execution_count": 10,
   "metadata": {},
   "outputs": [
    {
     "name": "stdout",
     "output_type": "stream",
     "text": [
      "[1, 2, 3, 4, 5, 6, 7, 8, 9, 10]\n"
     ]
    }
   ],
   "source": [
    "for i in range(10): # Adicionando 10 números na lista números\n",
    "    numeros.append(i+1)\n",
    "\n",
    "print(numeros)\n"
   ]
  },
  {
   "cell_type": "code",
   "execution_count": 11,
   "metadata": {},
   "outputs": [
    {
     "name": "stdout",
     "output_type": "stream",
     "text": [
      "[1, 2, 3, 4, 5, 6, 7, 8, 9, 10, 11, 12, 13, 14, 15, 16, 17, 18, 19, 20, 21, 22, 23, 24, 25, 26, 27, 28, 29, 30, 31, 32, 33, 34, 35, 36, 37, 38, 39, 40, 41, 42, 43, 44, 45, 46, 47, 48, 49, 50, 51, 52, 53, 54, 55, 56, 57, 58, 59, 60, 61, 62, 63, 64, 65, 66, 67, 68, 69, 70, 71, 72, 73, 74, 75, 76, 77, 78, 79, 80, 81, 82, 83, 84, 85, 86, 87, 88, 89, 90, 91, 92, 93, 94, 95, 96, 97, 98, 99, 100]\n"
     ]
    }
   ],
   "source": [
    "numeros = []\n",
    "\n",
    "for i in range(100):\n",
    "    numeros.append(i+1)\n",
    "print(numeros)"
   ]
  },
  {
   "cell_type": "code",
   "execution_count": 12,
   "metadata": {},
   "outputs": [],
   "source": [
    "começo = numeros[0]\n",
    "final = numeros[-1]"
   ]
  },
  {
   "cell_type": "markdown",
   "metadata": {},
   "source": [
    "# Importando bibliotecas\n",
    "Bibliotecas são estruturas de códigos com lógicas e objetos que podem ser consultados pelo seu código para realizar uma operação, como diz o ditado não precisa reinventar a roda. Ao invés de você contruir algo do zero para executar, você simplesmente pode fazer um código que consiga consultar esse algo já pronto."
   ]
  },
  {
   "cell_type": "code",
   "execution_count": 13,
   "metadata": {},
   "outputs": [],
   "source": [
    "import random  # Anexando a biblioteca random para consulta no meu código\n",
    "\n",
    "from random import randint # inclua o objeto randint no meu código naturalmente sem precisar de consultar\n",
    "\n",
    "from random import * # Coloque todos os objetos da biblioteca random no meu código\n",
    "\n",
    "from random import randint,randbytes #pode incluir mais funções"
   ]
  },
  {
   "cell_type": "code",
   "execution_count": 14,
   "metadata": {},
   "outputs": [
    {
     "name": "stdout",
     "output_type": "stream",
     "text": [
      "24\n"
     ]
    }
   ],
   "source": [
    "from random import choice\n",
    "\n",
    "sorteio = choice(numeros) # Vai escolher um valor aleatório que está dentro da lista números\n",
    "\n",
    "print(sorteio)"
   ]
  },
  {
   "cell_type": "code",
   "execution_count": 18,
   "metadata": {},
   "outputs": [
    {
     "name": "stdout",
     "output_type": "stream",
     "text": [
      "22\n",
      "21\n",
      "68\n",
      "71\n",
      "61\n",
      "\n",
      "\n",
      "61\n",
      "61\n",
      "61\n",
      "61\n",
      "61\n"
     ]
    }
   ],
   "source": [
    "for i in range(5):\n",
    "    sorteio = choice(numeros)\n",
    "    print(sorteio)\n",
    "print('\\n')\n",
    "for i in range(5):\n",
    "    print(sorteio)"
   ]
  },
  {
   "cell_type": "markdown",
   "metadata": {},
   "source": [
    "# Jogo de Adivinhar\n",
    "### Jogador Sozinho"
   ]
  },
  {
   "cell_type": "code",
   "execution_count": 20,
   "metadata": {},
   "outputs": [
    {
     "name": "stdout",
     "output_type": "stream",
     "text": [
      "Digite um número: 5\n",
      "Não foi dessa vez.\n",
      "O número é menor que  5\n",
      "Os números usados são [5]\n",
      "Digite um número: 4\n",
      "Não foi dessa vez.\n",
      "O número é menor que  4\n",
      "Os números usados são [5, 4]\n",
      "Digite um número: 3\n",
      "Não foi dessa vez.\n",
      "O número é menor que  3\n",
      "Os números usados são [5, 4, 3]\n",
      "Digite um número: 1\n",
      "Jogador Ganhou! O número sorteado é 1\n"
     ]
    }
   ],
   "source": [
    "numeros = []\n",
    "for i in range(100):\n",
    "    numeros.append(i+1)\n",
    "\n",
    "ganhou = False\n",
    "\n",
    "segredo = choice(numeros)\n",
    "\n",
    "numeros_testados = []\n",
    "\n",
    "while ganhou==False:\n",
    "    \n",
    "    jogada = int(input('Digite um número: '))\n",
    "    \n",
    "    if jogada==segredo:\n",
    "        print('Jogador Ganhou! O número sorteado é',jogada)\n",
    "        ganhou == True\n",
    "        break\n",
    "    else:\n",
    "        print('Não foi dessa vez.')\n",
    "        if jogada not in numeros_testados:\n",
    "            numeros_testados.append(jogada)\n",
    "            \n",
    "    # Dica para o usuário \n",
    "    if jogada < segredo:\n",
    "        print('O número é maior que ', jogada)\n",
    "    elif jogada > segredo:\n",
    "        print('O número é menor que ', jogada)\n",
    "            \n",
    "    print('Os números usados são', numeros_testados)\n",
    "    \n",
    "    "
   ]
  },
  {
   "cell_type": "markdown",
   "metadata": {},
   "source": [
    "### Jogador vs Bot"
   ]
  },
  {
   "cell_type": "code",
   "execution_count": 22,
   "metadata": {},
   "outputs": [
    {
     "name": "stdout",
     "output_type": "stream",
     "text": [
      "Digite um número: 5\n",
      "Não foi dessa vez.\n",
      "O número é maior que  5\n",
      "Os números são [5]\n",
      "EU O ROBO, sei que o número está entre  5  e  100\n",
      "Digite um número: 50\n",
      "Não foi dessa vez.\n",
      "O número é menor que  50\n",
      "Os números são [5, 50]\n",
      "EU O ROBO, sei que o número está entre  5  e  43\n",
      "Digite um número: 40\n",
      "Não foi dessa vez.\n",
      "O número é menor que  40\n",
      "Os números são [5, 50, 40]\n",
      "EU O ROBO, sei que o número está entre  5  e  35\n",
      "Digite um número: 6\n",
      "Não foi dessa vez.\n",
      "O número é maior que  6\n",
      "Os números são [5, 50, 40, 6]\n",
      "EU O ROBO, sei que o número está entre  6  e  35\n",
      "Digite um número: 4\n",
      "Não foi dessa vez.\n",
      "O número é maior que  4\n",
      "Os números são [5, 50, 40, 6, 4]\n",
      "EU O ROBO, sei que o número está entre  19  e  35\n",
      "Digite um número: 9\n",
      "Não foi dessa vez.\n",
      "O número é maior que  9\n",
      "Os números são [5, 50, 40, 6, 4, 9]\n",
      "EU O ROBO, sei que o número está entre  19  e  33\n",
      "Digite um número: 5\n",
      "Não foi dessa vez.\n",
      "O número é maior que  5\n",
      "Os números são [5, 50, 40, 6, 4, 9]\n",
      "EU O ROBO, sei que o número está entre  19  e  31\n",
      "Digite um número: 25\n",
      "Não foi dessa vez.\n",
      "O número é maior que  25\n",
      "Os números são [5, 50, 40, 6, 4, 9, 25]\n",
      "EU O ROBO, sei que o número está entre  25  e  31\n",
      "Digite um número: 26\n",
      "Não foi dessa vez.\n",
      "O número é maior que  26\n",
      "Os números são [5, 50, 40, 6, 4, 9, 25, 26]\n",
      "EU O ROBO, sei que o número está entre  25  e  30\n"
     ]
    },
    {
     "ename": "KeyboardInterrupt",
     "evalue": "Interrupted by user",
     "output_type": "error",
     "traceback": [
      "\u001b[1;31m---------------------------------------------------------------------------\u001b[0m",
      "\u001b[1;31mKeyboardInterrupt\u001b[0m                         Traceback (most recent call last)",
      "Input \u001b[1;32mIn [22]\u001b[0m, in \u001b[0;36m<cell line: 15>\u001b[1;34m()\u001b[0m\n\u001b[0;32m     20\u001b[0m     decisao_boot\u001b[38;5;241m.\u001b[39mappend(i\u001b[38;5;241m+\u001b[39m\u001b[38;5;241m1\u001b[39m)\n\u001b[0;32m     22\u001b[0m escolha_boot \u001b[38;5;241m=\u001b[39m choice(decisao_boot)\n\u001b[1;32m---> 24\u001b[0m jogada \u001b[38;5;241m=\u001b[39m \u001b[38;5;28mint\u001b[39m(\u001b[38;5;28;43minput\u001b[39;49m\u001b[43m(\u001b[49m\u001b[38;5;124;43m'\u001b[39;49m\u001b[38;5;124;43mDigite um número: \u001b[39;49m\u001b[38;5;124;43m'\u001b[39;49m\u001b[43m)\u001b[49m)\n\u001b[0;32m     26\u001b[0m \u001b[38;5;28;01mif\u001b[39;00m jogada\u001b[38;5;241m==\u001b[39msegredo:\n\u001b[0;32m     27\u001b[0m     \u001b[38;5;28mprint\u001b[39m(\u001b[38;5;124m'\u001b[39m\u001b[38;5;124mJogador Ganhou! Você será o primeiro humano na minha lista na guerra contra as máquinas.\u001b[39m\u001b[38;5;130;01m\\n\u001b[39;00m\u001b[38;5;124m O número sorteado é\u001b[39m\u001b[38;5;124m'\u001b[39m,jogada)\n",
      "File \u001b[1;32mC:\\Python\\lib\\site-packages\\ipykernel\\kernelbase.py:1177\u001b[0m, in \u001b[0;36mKernel.raw_input\u001b[1;34m(self, prompt)\u001b[0m\n\u001b[0;32m   1173\u001b[0m \u001b[38;5;28;01mif\u001b[39;00m \u001b[38;5;129;01mnot\u001b[39;00m \u001b[38;5;28mself\u001b[39m\u001b[38;5;241m.\u001b[39m_allow_stdin:\n\u001b[0;32m   1174\u001b[0m     \u001b[38;5;28;01mraise\u001b[39;00m StdinNotImplementedError(\n\u001b[0;32m   1175\u001b[0m         \u001b[38;5;124m\"\u001b[39m\u001b[38;5;124mraw_input was called, but this frontend does not support input requests.\u001b[39m\u001b[38;5;124m\"\u001b[39m\n\u001b[0;32m   1176\u001b[0m     )\n\u001b[1;32m-> 1177\u001b[0m \u001b[38;5;28;01mreturn\u001b[39;00m \u001b[38;5;28;43mself\u001b[39;49m\u001b[38;5;241;43m.\u001b[39;49m\u001b[43m_input_request\u001b[49m\u001b[43m(\u001b[49m\n\u001b[0;32m   1178\u001b[0m \u001b[43m    \u001b[49m\u001b[38;5;28;43mstr\u001b[39;49m\u001b[43m(\u001b[49m\u001b[43mprompt\u001b[49m\u001b[43m)\u001b[49m\u001b[43m,\u001b[49m\n\u001b[0;32m   1179\u001b[0m \u001b[43m    \u001b[49m\u001b[38;5;28;43mself\u001b[39;49m\u001b[38;5;241;43m.\u001b[39;49m\u001b[43m_parent_ident\u001b[49m\u001b[43m[\u001b[49m\u001b[38;5;124;43m\"\u001b[39;49m\u001b[38;5;124;43mshell\u001b[39;49m\u001b[38;5;124;43m\"\u001b[39;49m\u001b[43m]\u001b[49m\u001b[43m,\u001b[49m\n\u001b[0;32m   1180\u001b[0m \u001b[43m    \u001b[49m\u001b[38;5;28;43mself\u001b[39;49m\u001b[38;5;241;43m.\u001b[39;49m\u001b[43mget_parent\u001b[49m\u001b[43m(\u001b[49m\u001b[38;5;124;43m\"\u001b[39;49m\u001b[38;5;124;43mshell\u001b[39;49m\u001b[38;5;124;43m\"\u001b[39;49m\u001b[43m)\u001b[49m\u001b[43m,\u001b[49m\n\u001b[0;32m   1181\u001b[0m \u001b[43m    \u001b[49m\u001b[43mpassword\u001b[49m\u001b[38;5;241;43m=\u001b[39;49m\u001b[38;5;28;43;01mFalse\u001b[39;49;00m\u001b[43m,\u001b[49m\n\u001b[0;32m   1182\u001b[0m \u001b[43m\u001b[49m\u001b[43m)\u001b[49m\n",
      "File \u001b[1;32mC:\\Python\\lib\\site-packages\\ipykernel\\kernelbase.py:1219\u001b[0m, in \u001b[0;36mKernel._input_request\u001b[1;34m(self, prompt, ident, parent, password)\u001b[0m\n\u001b[0;32m   1216\u001b[0m             \u001b[38;5;28;01mbreak\u001b[39;00m\n\u001b[0;32m   1217\u001b[0m \u001b[38;5;28;01mexcept\u001b[39;00m \u001b[38;5;167;01mKeyboardInterrupt\u001b[39;00m:\n\u001b[0;32m   1218\u001b[0m     \u001b[38;5;66;03m# re-raise KeyboardInterrupt, to truncate traceback\u001b[39;00m\n\u001b[1;32m-> 1219\u001b[0m     \u001b[38;5;28;01mraise\u001b[39;00m \u001b[38;5;167;01mKeyboardInterrupt\u001b[39;00m(\u001b[38;5;124m\"\u001b[39m\u001b[38;5;124mInterrupted by user\u001b[39m\u001b[38;5;124m\"\u001b[39m) \u001b[38;5;28;01mfrom\u001b[39;00m \u001b[38;5;28mNone\u001b[39m\n\u001b[0;32m   1220\u001b[0m \u001b[38;5;28;01mexcept\u001b[39;00m \u001b[38;5;167;01mException\u001b[39;00m:\n\u001b[0;32m   1221\u001b[0m     \u001b[38;5;28mself\u001b[39m\u001b[38;5;241m.\u001b[39mlog\u001b[38;5;241m.\u001b[39mwarning(\u001b[38;5;124m\"\u001b[39m\u001b[38;5;124mInvalid Message:\u001b[39m\u001b[38;5;124m\"\u001b[39m, exc_info\u001b[38;5;241m=\u001b[39m\u001b[38;5;28;01mTrue\u001b[39;00m)\n",
      "\u001b[1;31mKeyboardInterrupt\u001b[0m: Interrupted by user"
     ]
    }
   ],
   "source": [
    "numeros = []\n",
    "for i in range(100):\n",
    "    numeros.append(i+1)\n",
    "\n",
    "ganhou = False\n",
    "\n",
    "segredo = choice(numeros)\n",
    "\n",
    "numeros_testados = []\n",
    "\n",
    "menor_numero_decisao_boot= 1\n",
    "\n",
    "maior_numero_decisao_boot =100\n",
    "\n",
    "while ganhou==False:\n",
    "    \n",
    "    decisao_boot = []\n",
    "    \n",
    "    for i in range(menor_numero_decisao_boot -1, maior_numero_decisao_boot - 1):\n",
    "        decisao_boot.append(i+1)\n",
    "\n",
    "    escolha_boot = choice(decisao_boot)\n",
    "    \n",
    "    jogada = int(input('Digite um número: '))\n",
    "    \n",
    "    if jogada==segredo:\n",
    "        print('Jogador Ganhou! Você será o primeiro humano na minha lista na guerra contra as máquinas.\\n O número sorteado é',jogada)\n",
    "        ganhou == True\n",
    "        continue\n",
    "    elif escolha_boot == segredo:\n",
    "        print('Jogador perdeu, robôs são superiores! Eu acertei o número é ', escolha_boot)\n",
    "        break\n",
    "        \n",
    "    else:\n",
    "        print('Não foi dessa vez.')\n",
    "        if jogada not in numeros_testados:\n",
    "            numeros_testados.append(jogada)\n",
    "            \n",
    "    # Dica para o usuário \n",
    "    if jogada < segredo:\n",
    "        print('O número é maior que ', jogada)\n",
    "        \n",
    "    elif jogada > segredo:\n",
    "        \n",
    "        print('O número é menor que ', jogada)\n",
    "        \n",
    "        \n",
    "    else:\n",
    "        pass\n",
    "    \n",
    "    if escolha_boot < segredo:\n",
    "        menor_numero_decisao_boot = escolha_boot\n",
    "        \n",
    "    elif escolha_boot > segredo:\n",
    "        maior_numero_decisao_boot = escolha_boot\n",
    "    \n",
    "            \n",
    "    print('Os números são', numeros_testados)\n",
    "    \n",
    "    print('EU O ROBO, sei que o número está entre ', menor_numero_decisao_boot, ' e ', maior_numero_decisao_boot)"
   ]
  },
  {
   "cell_type": "code",
   "execution_count": null,
   "metadata": {},
   "outputs": [],
   "source": []
  }
 ],
 "metadata": {
  "kernelspec": {
   "display_name": "Python 3 (ipykernel)",
   "language": "python",
   "name": "python3"
  },
  "language_info": {
   "codemirror_mode": {
    "name": "ipython",
    "version": 3
   },
   "file_extension": ".py",
   "mimetype": "text/x-python",
   "name": "python",
   "nbconvert_exporter": "python",
   "pygments_lexer": "ipython3",
   "version": "3.10.5"
  },
  "vscode": {
   "interpreter": {
    "hash": "52634da84371cba311ea128a5ea7cdc41ff074b781779e754b270ff9f8153cee"
   }
  }
 },
 "nbformat": 4,
 "nbformat_minor": 2
}
